{
 "cells": [
  {
   "cell_type": "markdown",
   "metadata": {},
   "source": [
    "## 0、 创建虚拟环境并安装必要的库\n",
    "- 创建虚拟环境\n",
    "- 安装 docx 库\n",
    "- 安装 openpyxl 库\n",
    "- 安装 pandas 库"
   ]
  },
  {
   "cell_type": "code",
   "execution_count": null,
   "metadata": {},
   "outputs": [],
   "source": [
    "# 在项目文件夹下，创建虚拟环境（也可以在终端中创建）\n",
    "! python -m venv ../../.venv"
   ]
  },
  {
   "cell_type": "code",
   "execution_count": null,
   "metadata": {},
   "outputs": [],
   "source": [
    "# 安装 python-docx 库，用以生成 Word 文件\n",
    "! pip install python-docx\n",
    "# 安装 pandas 库，用以读取 Excel 文件\n",
    "! pip install pandas\n",
    "# 安装 openpyxl 库，用以读取 Excel 文件\n",
    "! pip install openpyxl"
   ]
  },
  {
   "cell_type": "markdown",
   "metadata": {},
   "source": [
    "## 1、 设置变量\n",
    "- 设置员工花名册对应路径\n",
    "- 设置输出文件夹路径\n",
    "- 设置员工名单"
   ]
  },
  {
   "cell_type": "code",
   "execution_count": null,
   "metadata": {},
   "outputs": [],
   "source": []
  },
  {
   "cell_type": "markdown",
   "metadata": {},
   "source": [
    "## 2、 读取员工花名册\n",
    "- 请注意花名册数据的表头处于第几行，应该如何读取"
   ]
  },
  {
   "cell_type": "code",
   "execution_count": null,
   "metadata": {},
   "outputs": [],
   "source": []
  },
  {
   "cell_type": "markdown",
   "metadata": {},
   "source": [
    "## 3、基于员工序列变量，将指定的员工的数据做好准备"
   ]
  },
  {
   "cell_type": "code",
   "execution_count": null,
   "metadata": {},
   "outputs": [],
   "source": []
  },
  {
   "cell_type": "markdown",
   "metadata": {},
   "source": [
    "### 3.1 新增列计算在职时长"
   ]
  },
  {
   "cell_type": "code",
   "execution_count": null,
   "metadata": {},
   "outputs": [],
   "source": []
  },
  {
   "cell_type": "markdown",
   "metadata": {},
   "source": [
    "### 3.2 新增列计算月收入"
   ]
  },
  {
   "cell_type": "code",
   "execution_count": null,
   "metadata": {},
   "outputs": [],
   "source": []
  },
  {
   "cell_type": "markdown",
   "metadata": {},
   "source": [
    "### 3.3 新增列计算年收入"
   ]
  },
  {
   "cell_type": "code",
   "execution_count": null,
   "metadata": {},
   "outputs": [],
   "source": []
  },
  {
   "cell_type": "markdown",
   "metadata": {},
   "source": [
    "## 4、编写函数，逐步增加细节，以生成收入证明\n",
    "- 先将所有相关字段，试着生成 Word 文件\n",
    "- 逐个调整细节：\n",
    "    - 设置文档的默认字体为微软雅黑，字体大小为12磅\n",
    "    - 将姓名、身份证号、部门、职位、在职时长、组织为一个段落\n",
    "    - 再将月收入、年收入组织为一个段落\n",
    "    - 段落的首字之前，增加两个字的缩进\n",
    "    - 在收入证明的最后，增加两个段落“盖章：”，然后另起一行，增加一个段落，内容为当前日期"
   ]
  },
  {
   "cell_type": "code",
   "execution_count": null,
   "metadata": {},
   "outputs": [],
   "source": []
  },
  {
   "cell_type": "markdown",
   "metadata": {},
   "source": [
    "##  5、批量生成收入证明文件"
   ]
  },
  {
   "cell_type": "code",
   "execution_count": null,
   "metadata": {},
   "outputs": [],
   "source": []
  }
 ],
 "metadata": {
  "kernelspec": {
   "display_name": "ai-py-intro-course-c5-bn3t7gWW-py3.10",
   "language": "python",
   "name": "python3"
  },
  "language_info": {
   "codemirror_mode": {
    "name": "ipython",
    "version": 3
   },
   "file_extension": ".py",
   "mimetype": "text/x-python",
   "name": "python",
   "nbconvert_exporter": "python",
   "pygments_lexer": "ipython3",
   "version": "3.10.13"
  }
 },
 "nbformat": 4,
 "nbformat_minor": 2
}
